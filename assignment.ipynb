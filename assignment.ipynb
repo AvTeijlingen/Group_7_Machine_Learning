{
  "cells": [
    {
      "cell_type": "markdown",
      "metadata": {
        "id": "7SXpaKwwGe5x"
      },
      "source": [
        "# TM10007 Assignment"
      ]
    },
    {
      "cell_type": "code",
      "execution_count": 5,
      "metadata": {
        "id": "CiDn2Sk-VWqE"
      },
      "outputs": [],
      "source": [
        "# Run this to use from colab environment\n",
        "#!pip install -q --upgrade git+https://github.com/jveenland/tm10007_ml.git"
      ]
    },
    {
      "cell_type": "markdown",
      "metadata": {
        "id": "ITCzPvkgiP5V"
      },
      "source": [
        "## Data loading and cleaning\n",
        "\n",
        "Below are functions to load the dataset of your choice. After that, it is all up to you to create and evaluate a classification method. Beware, there may be missing values in these datasets. Good luck!"
      ]
    },
    {
      "cell_type": "code",
      "execution_count": 6,
      "metadata": {
        "colab": {
          "base_uri": "https://localhost:8080/",
          "height": 399
        },
        "id": "-NE_fTbKGe5z",
        "outputId": "45579b27-9c0c-4662-dae3-fc3f4578fd8a"
      },
      "outputs": [
        {
          "name": "stdout",
          "output_type": "stream",
          "text": [
            "The number of samples: 246\n",
            "The number of columns: 494\n",
            "<class 'pandas.core.frame.DataFrame'>\n",
            "Index: 246 entries, GIST-001_0 to GIST-246_0\n",
            "Columns: 494 entries, label to PREDICT_original_phasef_phasesym_entropy_WL3_N5\n",
            "dtypes: float64(468), int64(25), object(1)\n",
            "memory usage: 951.3+ KB\n",
            "None\n",
            "<class 'pandas.core.frame.DataFrame'>\n",
            "Index: 196 entries, GIST-173_0 to GIST-212_0\n",
            "Columns: 494 entries, label to PREDICT_original_phasef_phasesym_entropy_WL3_N5\n",
            "dtypes: float64(468), int64(25), object(1)\n",
            "memory usage: 758.0+ KB\n",
            "None\n",
            "label                                                     0\n",
            "PREDICT_original_sf_compactness_avg_2.5D                  0\n",
            "PREDICT_original_sf_compactness_std_2.5D                  0\n",
            "PREDICT_original_sf_rad_dist_avg_2.5D                     0\n",
            "PREDICT_original_sf_rad_dist_std_2.5D                     0\n",
            "                                                         ..\n",
            "PREDICT_original_phasef_phasesym_peak_position_WL3_N5     0\n",
            "PREDICT_original_phasef_phasesym_range_WL3_N5             0\n",
            "PREDICT_original_phasef_phasesym_energy_WL3_N5            0\n",
            "PREDICT_original_phasef_phasesym_quartile_range_WL3_N5    0\n",
            "PREDICT_original_phasef_phasesym_entropy_WL3_N5           0\n",
            "Length: 494, dtype: int64\n",
            "121\n"
          ]
        }
      ],
      "source": [
        "# Data loading functions. Uncomment the one you want to use\n",
        "from load_data import load_data\n",
        "from sklearn.model_selection import train_test_split\n",
        "\n",
        "data = load_data()\n",
        "print(f'The number of samples: {len(data.index)}')\n",
        "print(f'The number of columns: {len(data.columns)}')\n",
        "\n",
        "print(data.info())\n",
        "\n",
        "train_data, test_data = train_test_split(data, test_size=0.2)\n",
        "\n",
        "print(train_data.info())\n",
        "\n",
        "print(data.isnull().sum())\n",
        "\n",
        "print(len(data[data['label'] == 'non-GIST']))\n"
      ]
    },
    {
      "cell_type": "markdown",
      "metadata": {},
      "source": [
        "## Feature selection and dimension reduction"
      ]
    },
    {
      "cell_type": "code",
      "execution_count": null,
      "metadata": {},
      "outputs": [],
      "source": []
    }
  ],
  "metadata": {
    "colab": {
      "name": "assignment.ipynb",
      "provenance": []
    },
    "kernelspec": {
      "display_name": "base",
      "language": "python",
      "name": "python3"
    },
    "language_info": {
      "codemirror_mode": {
        "name": "ipython",
        "version": 3
      },
      "file_extension": ".py",
      "mimetype": "text/x-python",
      "name": "python",
      "nbconvert_exporter": "python",
      "pygments_lexer": "ipython3",
      "version": "3.10.9"
    }
  },
  "nbformat": 4,
  "nbformat_minor": 0
}
