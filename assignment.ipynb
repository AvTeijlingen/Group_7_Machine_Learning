{
  "cells": [
    {
      "cell_type": "markdown",
      "metadata": {
        "id": "7SXpaKwwGe5x"
      },
      "source": [
        "# TM10007 Assignment"
      ]
    },
    {
      "cell_type": "code",
      "execution_count": 24,
      "metadata": {
        "id": "CiDn2Sk-VWqE"
      },
      "outputs": [],
      "source": [
        "# Run this to use from colab environment\n",
        "#!pip install -q --upgrade git+https://github.com/jveenland/tm10007_ml.git"
      ]
    },
    {
      "cell_type": "markdown",
      "metadata": {},
      "source": [
        "## Create training and test set"
      ]
    },
    {
      "cell_type": "code",
      "execution_count": 25,
      "metadata": {},
      "outputs": [
        {
          "data": {
            "text/plain": [
              "\"\\nfrom sklearn.model_selection import train_test_split\\nfrom load_data import load_data\\n\\n# Code used to load the original data and split into train and test set\\n# Was only run once at the start to create test and train dataset\\n\\ndata = load_data()\\nprint(f'The number of samples: {len(data.index)}')\\nprint(f'The number of columns: {len(data.columns)}')\\n\\nprint(data.info())\\n\\ntrain_data, test_data = train_test_split(data, test_size=0.2)\\n\\ntrain_data.to_csv('train_data.csv', index=False)\\ntest_data.to_csv('test_data.csv', index=False)\\n\""
            ]
          },
          "execution_count": 25,
          "metadata": {},
          "output_type": "execute_result"
        }
      ],
      "source": [
        "\"\"\"\n",
        "from sklearn.model_selection import train_test_split\n",
        "from load_data import load_data\n",
        "\n",
        "# Code used to load the original data and split into train and test set\n",
        "# Was only run once at the start to create test and train dataset\n",
        "\n",
        "data = load_data()\n",
        "print(f'The number of samples: {len(data.index)}')\n",
        "print(f'The number of columns: {len(data.columns)}')\n",
        "\n",
        "print(data.info())\n",
        "\n",
        "train_data, test_data = train_test_split(data, test_size=0.2)\n",
        "\n",
        "train_data.to_csv('train_data.csv', index=False)\n",
        "test_data.to_csv('test_data.csv', index=False)\n",
        "\"\"\""
      ]
    },
    {
      "cell_type": "markdown",
      "metadata": {
        "id": "ITCzPvkgiP5V"
      },
      "source": [
        "## Data loading"
      ]
    },
    {
      "cell_type": "code",
      "execution_count": 26,
      "metadata": {
        "colab": {
          "base_uri": "https://localhost:8080/",
          "height": 399
        },
        "id": "-NE_fTbKGe5z",
        "outputId": "45579b27-9c0c-4662-dae3-fc3f4578fd8a"
      },
      "outputs": [
        {
          "name": "stdout",
          "output_type": "stream",
          "text": [
            "101\n",
            "24\n"
          ]
        }
      ],
      "source": [
        "# Data loading functions. Uncomment the one you want to use\n",
        "\n",
        "import pandas as pd\n",
        "from scipy.stats import shapiro\n",
        "\n",
        "train_data = pd.read_csv('train_data.csv')\n",
        "test_data = pd.read_csv('test_data.csv')\n",
        "\n",
        "print(len(train_data[train_data['label'] == 'GIST']))\n",
        "print(len(test_data[test_data['label'] == 'GIST']))\n"
      ]
    },
    {
      "cell_type": "markdown",
      "metadata": {},
      "source": [
        "## Feature selection and dimension reduction"
      ]
    },
    {
      "cell_type": "code",
      "execution_count": 27,
      "metadata": {},
      "outputs": [
        {
          "name": "stdout",
          "output_type": "stream",
          "text": [
            "(196, 493)\n",
            "We removed 0 columns without any variance\n",
            "(196, 484)\n"
          ]
        }
      ],
      "source": [
        "import statsmodels.api as sm\n",
        "\n",
        "training_label = train_data['label']\n",
        "training_values = train_data.drop(columns=['label'], axis=1)\n",
        "\n",
        "print(training_values.shape)\n",
        "\n",
        "print(f'We removed {training_values.loc[:, training_values.var() < 0].shape[1]} columns without any variance')\n",
        "training_values = training_values.loc[:, training_values.var() != 0]\n",
        "\n",
        "print(training_values.shape)\n",
        "\n",
        "\n"
      ]
    },
    {
      "cell_type": "markdown",
      "metadata": {},
      "source": [
        "## Linear Classifier"
      ]
    },
    {
      "cell_type": "code",
      "execution_count": 28,
      "metadata": {},
      "outputs": [
        {
          "name": "stdout",
          "output_type": "stream",
          "text": [
            "🔹 **LDA Model Evaluatie (Training Set):**\n",
            "   Accuracy:  0.9695\n",
            "   Precision: 0.9789\n",
            "   Recall:    0.9588\n",
            "   F1-score:  0.9688\n",
            "   ROC-AUC:   0.9963\n",
            "\n",
            "🔹 **LDA Model Evaluatie (Test Set):**\n",
            "   Accuracy:  0.6122\n",
            "   Precision: 0.6000\n",
            "   Recall:    0.6250\n",
            "   F1-score:  0.6122\n",
            "   ROC-AUC:   0.6192\n"
          ]
        }
      ],
      "source": [
        "# Linear classifier\n",
        "import numpy as np\n",
        "import matplotlib.pyplot as plt\n",
        "from sklearn.discriminant_analysis import LinearDiscriminantAnalysis\n",
        "from sklearn.metrics import roc_auc_score, accuracy_score, precision_score,f1_score\n",
        "from load_data import load_data\n",
        "\n",
        "# === Load Your Multidimensional Dataset ===\n",
        "df = load_data()  # Load real dataset\n",
        "X = df.drop(columns=[\"label\"])  # Drop ID, keep features\n",
        "Y = df[\"label\"]  # Target variable\n",
        "\n",
        "# === LDA model trainen ===\n",
        "lda = LinearDiscriminantAnalysis()\n",
        "lda.fit(X_train_full, y_train_full)  # Model trainen met training set\n",
        "\n",
        "# === Model voorspellingen maken ===\n",
        "y_pred_train = lda.predict(X_train_full)  # Voorspellen op de training set\n",
        "y_pred_test = lda.predict(X_test)  # Voorspellen op de testset\n",
        "\n",
        "y_probs_train = lda.predict_proba(X_train_full)[:, 1]  # Voor ROC-AUC (trainset)\n",
        "y_probs_test = lda.predict_proba(X_test)[:, 1]  # Voor ROC-AUC (testset)\n",
        "\n",
        "# Evaluatiemetrics berekenen voor training set\n",
        "accuracy_train = accuracy_score(y_train_full, y_pred_train)\n",
        "precision_train = precision_score(y_train_full, y_pred_train)\n",
        "recall_train = recall_score(y_train_full, y_pred_train)\n",
        "f1_train = f1_score(y_train_full, y_pred_train)\n",
        "roc_auc_train = roc_auc_score(y_train_full, y_probs_train)\n",
        "\n",
        "# Evaluatiemetrics berekenen voor test set\n",
        "accuracy_test = accuracy_score(y_test, y_pred_test)\n",
        "precision_test = precision_score(y_test, y_pred_test)\n",
        "recall_test = recall_score(y_test, y_pred_test)\n",
        "f1_test = f1_score(y_test, y_pred_test)\n",
        "roc_auc_test = roc_auc_score(y_test, y_probs_test)\n",
        "\n",
        "# Print de resultaten voor zowel training als test set\n",
        "print(f\"🔹 **LDA Model Evaluatie (Training Set):**\")\n",
        "print(f\"   Accuracy:  {accuracy_train:.4f}\")\n",
        "print(f\"   Precision: {precision_train:.4f}\")\n",
        "print(f\"   Recall:    {recall_train:.4f}\")\n",
        "print(f\"   F1-score:  {f1_train:.4f}\")\n",
        "print(f\"   ROC-AUC:   {roc_auc_train:.4f}\")\n",
        "\n",
        "print(f\"\\n🔹 **LDA Model Evaluatie (Test Set):**\")\n",
        "print(f\"   Accuracy:  {accuracy_test:.4f}\")\n",
        "print(f\"   Precision: {precision_test:.4f}\")\n",
        "print(f\"   Recall:    {recall_test:.4f}\")\n",
        "print(f\"   F1-score:  {f1_test:.4f}\")\n",
        "print(f\"   ROC-AUC:   {roc_auc_test:.4f}\")"
      ]
    }
  ],
  "metadata": {
    "colab": {
      "name": "assignment.ipynb",
      "provenance": []
    },
    "kernelspec": {
      "display_name": "base",
      "language": "python",
      "name": "python3"
    },
    "language_info": {
      "codemirror_mode": {
        "name": "ipython",
        "version": 3
      },
      "file_extension": ".py",
      "mimetype": "text/x-python",
      "name": "python",
      "nbconvert_exporter": "python",
      "pygments_lexer": "ipython3",
      "version": "3.12.8"
    }
  },
  "nbformat": 4,
  "nbformat_minor": 0
}
